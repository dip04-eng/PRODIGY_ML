{
 "cells": [
  {
   "cell_type": "markdown",
   "id": "82cd5010",
   "metadata": {},
   "source": [
    "# Check Tnsorflow version and GPU"
   ]
  },
  {
   "cell_type": "code",
   "execution_count": 1,
   "id": "209b474a",
   "metadata": {},
   "outputs": [
    {
     "name": "stdout",
     "output_type": "stream",
     "text": [
      "TensorFlow version: 2.10.0\n",
      "Num GPUs Available: 1\n",
      "List of GPUs: [PhysicalDevice(name='/physical_device:GPU:0', device_type='GPU')]\n"
     ]
    }
   ],
   "source": [
    "import tensorflow as tf\n",
    "\n",
    "print(\"TensorFlow version:\", tf.__version__)\n",
    "print(\"Num GPUs Available:\", len(tf.config.list_physical_devices('GPU')))\n",
    "print(\"List of GPUs:\", tf.config.list_physical_devices('GPU'))\n"
   ]
  },
  {
   "cell_type": "markdown",
   "id": "7ee7f781",
   "metadata": {},
   "source": [
    "# Import libraries and Path"
   ]
  },
  {
   "cell_type": "code",
   "execution_count": 2,
   "id": "2b7aa77a",
   "metadata": {},
   "outputs": [],
   "source": [
    "import os\n",
    "import cv2\n",
    "import numpy as np\n",
    "import matplotlib.pyplot as plt\n",
    "from sklearn.model_selection import train_test_split\n",
    "from sklearn.preprocessing import LabelBinarizer\n",
    "from tensorflow.keras.models import Sequential\n",
    "from tensorflow.keras.layers import Conv2D, MaxPooling2D, Flatten, Dense, Dropout\n",
    "from tensorflow.keras.utils import to_categorical"
   ]
  },
  {
   "cell_type": "markdown",
   "id": "698214d8",
   "metadata": {},
   "source": [
    "\n",
    "# Set dataset path here"
   ]
  },
  {
   "cell_type": "code",
   "execution_count": 5,
   "id": "5ad5bff6",
   "metadata": {},
   "outputs": [],
   "source": [
    "DATASET_PATH = \"D:/Prodigy_InfoTech/Prodigy_InfoTech_Assesment_04/archive/leapGestRecog/leapGestRecog\""
   ]
  },
  {
   "cell_type": "markdown",
   "id": "ed0ad622",
   "metadata": {},
   "source": [
    "# Load Images and Labels"
   ]
  },
  {
   "cell_type": "code",
   "execution_count": null,
   "id": "434d68df",
   "metadata": {},
   "outputs": [
    {
     "name": "stdout",
     "output_type": "stream",
     "text": [
      "🔍 Loading data...\n"
     ]
    }
   ],
   "source": [
    "def load_dataset(dataset_path):\n",
    "    \n",
    "    images = []\n",
    "    labels = []\n",
    "\n",
    "    for user_folder in os.listdir(dataset_path):\n",
    "        user_path = os.path.join(dataset_path, user_folder)\n",
    "        if not os.path.isdir(user_path):\n",
    "            continue\n",
    "\n",
    "        for gesture_folder in os.listdir(user_path):\n",
    "            gesture_path = os.path.join(user_path, gesture_folder)\n",
    "            if not os.path.isdir(gesture_path):\n",
    "                continue\n",
    "\n",
    "            for img_file in os.listdir(gesture_path):\n",
    "                img_path = os.path.join(gesture_path, img_file)\n",
    "                img = cv2.imread(img_path, cv2.IMREAD_GRAYSCALE) \n",
    "                img = cv2.resize(img, (64, 64)) \n",
    "                images.append(img)\n",
    "                labels.append(gesture_folder)\n",
    "\n",
    "    return np.array(images), np.array(labels)\n",
    "\n",
    "print(\"🔍 Loading data...\")\n",
    "X, y = load_dataset(DATASET_PATH)"
   ]
  },
  {
   "cell_type": "markdown",
   "id": "8d8c59fd",
   "metadata": {},
   "source": [
    "# Preprocess data"
   ]
  },
  {
   "cell_type": "code",
   "execution_count": null,
   "id": "ebc3a4be",
   "metadata": {},
   "outputs": [],
   "source": [
    "X = X / 255.0 \n",
    "X = X.reshape(-1, 64, 64, 1)  \n",
    "lb = LabelBinarizer()\n",
    "y = lb.fit_transform(y) \n"
   ]
  },
  {
   "cell_type": "markdown",
   "id": "ad5a542e",
   "metadata": {},
   "source": [
    "# Split into train and test"
   ]
  },
  {
   "cell_type": "code",
   "execution_count": 8,
   "id": "6381b7ce",
   "metadata": {},
   "outputs": [],
   "source": [
    "X_train, X_test, y_train, y_test = train_test_split(X, y, test_size=0.2, random_state=42)"
   ]
  },
  {
   "cell_type": "markdown",
   "id": "bd83b2eb",
   "metadata": {},
   "source": [
    "# Build CNN model"
   ]
  },
  {
   "cell_type": "code",
   "execution_count": 9,
   "id": "70a186ab",
   "metadata": {},
   "outputs": [
    {
     "name": "stdout",
     "output_type": "stream",
     "text": [
      "Model: \"sequential\"\n",
      "_________________________________________________________________\n",
      " Layer (type)                Output Shape              Param #   \n",
      "=================================================================\n",
      " conv2d (Conv2D)             (None, 62, 62, 32)        320       \n",
      "                                                                 \n",
      " max_pooling2d (MaxPooling2D  (None, 31, 31, 32)       0         \n",
      " )                                                               \n",
      "                                                                 \n",
      " conv2d_1 (Conv2D)           (None, 29, 29, 64)        18496     \n",
      "                                                                 \n",
      " max_pooling2d_1 (MaxPooling  (None, 14, 14, 64)       0         \n",
      " 2D)                                                             \n",
      "                                                                 \n",
      " flatten (Flatten)           (None, 12544)             0         \n",
      "                                                                 \n",
      " dense (Dense)               (None, 128)               1605760   \n",
      "                                                                 \n",
      " dropout (Dropout)           (None, 128)               0         \n",
      "                                                                 \n",
      " dense_1 (Dense)             (None, 10)                1290      \n",
      "                                                                 \n",
      "=================================================================\n",
      "Total params: 1,625,866\n",
      "Trainable params: 1,625,866\n",
      "Non-trainable params: 0\n",
      "_________________________________________________________________\n"
     ]
    }
   ],
   "source": [
    "model = Sequential([\n",
    "    Conv2D(32, (3, 3), activation='relu', input_shape=(64, 64, 1)),\n",
    "    MaxPooling2D(2, 2),\n",
    "    Conv2D(64, (3, 3), activation='relu'),\n",
    "    MaxPooling2D(2, 2),\n",
    "    Flatten(),\n",
    "    Dense(128, activation='relu'),\n",
    "    Dropout(0.5),\n",
    "    Dense(len(lb.classes_), activation='softmax')\n",
    "])\n",
    "\n",
    "model.compile(optimizer='adam', loss='categorical_crossentropy', metrics=['accuracy'])\n",
    "model.summary()"
   ]
  },
  {
   "cell_type": "markdown",
   "id": "277f442f",
   "metadata": {},
   "source": [
    "# Train the model"
   ]
  },
  {
   "cell_type": "code",
   "execution_count": 10,
   "id": "d887dcbd",
   "metadata": {},
   "outputs": [
    {
     "name": "stdout",
     "output_type": "stream",
     "text": [
      "Epoch 1/15\n",
      "500/500 [==============================] - 6s 8ms/step - loss: 0.4612 - accuracy: 0.8483 - val_loss: 0.0098 - val_accuracy: 0.9983\n",
      "Epoch 2/15\n",
      "500/500 [==============================] - 4s 8ms/step - loss: 0.0644 - accuracy: 0.9793 - val_loss: 0.0035 - val_accuracy: 0.9998\n",
      "Epoch 3/15\n",
      "500/500 [==============================] - 4s 7ms/step - loss: 0.0364 - accuracy: 0.9887 - val_loss: 0.0011 - val_accuracy: 1.0000\n",
      "Epoch 4/15\n",
      "500/500 [==============================] - 4s 7ms/step - loss: 0.0287 - accuracy: 0.9899 - val_loss: 4.1972e-04 - val_accuracy: 1.0000\n",
      "Epoch 5/15\n",
      "500/500 [==============================] - 4s 7ms/step - loss: 0.0224 - accuracy: 0.9929 - val_loss: 0.0025 - val_accuracy: 0.9998\n",
      "Epoch 6/15\n",
      "500/500 [==============================] - 4s 7ms/step - loss: 0.0238 - accuracy: 0.9926 - val_loss: 6.4979e-04 - val_accuracy: 0.9998\n",
      "Epoch 7/15\n",
      "500/500 [==============================] - 4s 7ms/step - loss: 0.0167 - accuracy: 0.9945 - val_loss: 2.3270e-04 - val_accuracy: 1.0000\n",
      "Epoch 8/15\n",
      "500/500 [==============================] - 4s 7ms/step - loss: 0.0133 - accuracy: 0.9951 - val_loss: 4.7715e-04 - val_accuracy: 0.9998\n",
      "Epoch 9/15\n",
      "500/500 [==============================] - 4s 7ms/step - loss: 0.0141 - accuracy: 0.9955 - val_loss: 0.0013 - val_accuracy: 0.9998\n",
      "Epoch 10/15\n",
      "500/500 [==============================] - 4s 7ms/step - loss: 0.0128 - accuracy: 0.9957 - val_loss: 3.9244e-04 - val_accuracy: 0.9998\n",
      "Epoch 11/15\n",
      "500/500 [==============================] - 4s 7ms/step - loss: 0.0114 - accuracy: 0.9960 - val_loss: 1.3459e-04 - val_accuracy: 1.0000\n",
      "Epoch 12/15\n",
      "500/500 [==============================] - 4s 7ms/step - loss: 0.0105 - accuracy: 0.9966 - val_loss: 1.1953e-04 - val_accuracy: 1.0000\n",
      "Epoch 13/15\n",
      "500/500 [==============================] - 4s 7ms/step - loss: 0.0100 - accuracy: 0.9970 - val_loss: 4.6254e-05 - val_accuracy: 1.0000\n",
      "Epoch 14/15\n",
      "500/500 [==============================] - 4s 7ms/step - loss: 0.0122 - accuracy: 0.9955 - val_loss: 3.9470e-04 - val_accuracy: 0.9998\n",
      "Epoch 15/15\n",
      "500/500 [==============================] - 4s 7ms/step - loss: 0.0054 - accuracy: 0.9983 - val_loss: 4.5863e-05 - val_accuracy: 1.0000\n"
     ]
    }
   ],
   "source": [
    "history = model.fit(X_train, y_train, epochs=15, validation_data=(X_test, y_test), batch_size=32)"
   ]
  },
  {
   "cell_type": "markdown",
   "id": "fb93cabd",
   "metadata": {},
   "source": [
    "# Evaluate and visualize"
   ]
  },
  {
   "cell_type": "code",
   "execution_count": 11,
   "id": "c84f153d",
   "metadata": {},
   "outputs": [
    {
     "name": "stdout",
     "output_type": "stream",
     "text": [
      "125/125 [==============================] - 1s 5ms/step - loss: 4.5863e-05 - accuracy: 1.0000\n",
      "✅ Test Accuracy: 1.00\n"
     ]
    }
   ],
   "source": [
    "test_loss, test_acc = model.evaluate(X_test, y_test)\n",
    "print(f\"✅ Test Accuracy: {test_acc:.2f}\")"
   ]
  },
  {
   "cell_type": "markdown",
   "id": "b0d51b9b",
   "metadata": {},
   "source": [
    "# plot training history"
   ]
  },
  {
   "cell_type": "code",
   "execution_count": 12,
   "id": "6b519a80",
   "metadata": {},
   "outputs": [
    {
     "data": {
      "image/png": "[encoded data removed]",
      "text/plain": [
       "<Figure size 640x480 with 1 Axes>"
      ]
     },
     "metadata": {},
     "output_type": "display_data"
    }
   ],
   "source": [
    "plt.plot(history.history['accuracy'], label='Train Acc')\n",
    "plt.plot(history.history['val_accuracy'], label='Val Acc')\n",
    "plt.xlabel('Epoch')\n",
    "plt.ylabel('Accuracy')\n",
    "plt.legend()\n",
    "plt.title('Training and Validation Accuracy')\n",
    "plt.show()"
   ]
  },
  {
   "cell_type": "code",
   "execution_count": null,
   "id": "1826ca27",
   "metadata": {},
   "outputs": [],
   "source": []
  }
 ],
 "metadata": {
  "kernelspec": {
   "display_name": "env3",
   "language": "python",
   "name": "python3"
  },
  "language_info": {
   "codemirror_mode": {
    "name": "ipython",
    "version": 3
   },
   "file_extension": ".py",
   "mimetype": "text/x-python",
   "name": "python",
   "nbconvert_exporter": "python",
   "pygments_lexer": "ipython3",
   "version": "3.10.9"
  }
 },
 "nbformat": 4,
 "nbformat_minor": 5
}
