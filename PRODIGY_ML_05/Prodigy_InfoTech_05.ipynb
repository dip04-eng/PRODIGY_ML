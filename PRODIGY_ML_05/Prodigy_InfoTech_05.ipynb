{
 "cells": [
  {
   "cell_type": "markdown",
   "id": "274a5a7a",
   "metadata": {},
   "source": [
    "# Import libraries and Path"
   ]
  },
  {
   "cell_type": "code",
   "execution_count": 1,
   "id": "50099c43",
   "metadata": {},
   "outputs": [],
   "source": [
    "import os\n",
    "import numpy as np\n",
    "import matplotlib.pyplot as plt\n",
    "from tensorflow.keras.preprocessing.image import ImageDataGenerator\n",
    "from tensorflow.keras.applications import MobileNetV2\n",
    "from tensorflow.keras.models import Model\n",
    "from tensorflow.keras.layers import Dense, GlobalAveragePooling2D\n",
    "from tensorflow.keras.optimizers import Adam\n",
    "from tensorflow.keras.callbacks import EarlyStopping"
   ]
  },
  {
   "cell_type": "markdown",
   "id": "980ac746",
   "metadata": {},
   "source": [
    "# # Paths"
   ]
  },
  {
   "cell_type": "code",
   "execution_count": 2,
   "id": "7029ddbc",
   "metadata": {},
   "outputs": [],
   "source": [
    "train_dir = \"D:/Prodigy_InfoTech/Prodigy_InfoTech_Assessment_05/archive/food-101/food-101/images\"\n",
    "test_dir = \"D:/Prodigy_InfoTech/Prodigy_InfoTech_Assessment_05/archive/food-101/food-101/images\"\n"
   ]
  },
  {
   "cell_type": "markdown",
   "id": "309cc9ee",
   "metadata": {},
   "source": [
    "# # Data generators"
   ]
  },
  {
   "cell_type": "code",
   "execution_count": 3,
   "id": "44ec3540",
   "metadata": {},
   "outputs": [
    {
     "name": "stdout",
     "output_type": "stream",
     "text": [
      "Found 101000 images belonging to 101 classes.\n",
      "Found 101000 images belonging to 101 classes.\n"
     ]
    }
   ],
   "source": [
    "IMG_SIZE = (224, 224)\n",
    "BATCH_SIZE = 32\n",
    "\n",
    "train_gen = ImageDataGenerator(rescale=1./255, horizontal_flip=True, zoom_range=0.2)\n",
    "test_gen = ImageDataGenerator(rescale=1./255)\n",
    "\n",
    "train_data = train_gen.flow_from_directory(\n",
    "    train_dir,\n",
    "    target_size=IMG_SIZE,\n",
    "    batch_size=BATCH_SIZE,\n",
    "    class_mode='categorical'\n",
    ")\n",
    "\n",
    "test_data = test_gen.flow_from_directory(\n",
    "    test_dir,\n",
    "    target_size=IMG_SIZE,\n",
    "    batch_size=BATCH_SIZE,\n",
    "    class_mode='categorical'\n",
    ")\n"
   ]
  },
  {
   "cell_type": "markdown",
   "id": "3d72d33f",
   "metadata": {},
   "source": [
    "# # Transfer learning model"
   ]
  },
  {
   "cell_type": "code",
   "execution_count": 7,
   "id": "f2f7433a",
   "metadata": {},
   "outputs": [],
   "source": [
    "base_model = MobileNetV2(weights='imagenet', include_top=False, input_shape=(224,224,3))\n",
    "x = base_model.output\n",
    "x = GlobalAveragePooling2D()(x)\n",
    "x = Dense(512, activation='relu')(x)\n",
    "predictions = Dense(101, activation='softmax')(x)\n",
    "\n",
    "model = Model(inputs=base_model.input, outputs=predictions)"
   ]
  },
  {
   "cell_type": "markdown",
   "id": "eedf2367",
   "metadata": {},
   "source": [
    "# Freeze base layers for initial training"
   ]
  },
  {
   "cell_type": "code",
   "execution_count": 8,
   "id": "5d00c20f",
   "metadata": {},
   "outputs": [],
   "source": [
    "for layer in base_model.layers:\n",
    "    layer.trainable = False\n",
    "\n",
    "model.compile(optimizer='adam', loss='categorical_crossentropy', metrics=['accuracy'])"
   ]
  },
  {
   "cell_type": "markdown",
   "id": "04ff5762",
   "metadata": {},
   "source": [
    "# Train model"
   ]
  },
  {
   "cell_type": "code",
   "execution_count": 9,
   "id": "a1712407",
   "metadata": {},
   "outputs": [
    {
     "name": "stdout",
     "output_type": "stream",
     "text": [
      "Epoch 1/10\n",
      "3157/3157 [==============================] - 1694s 536ms/step - loss: 2.2077 - accuracy: 0.4475 - val_loss: 1.7494 - val_accuracy: 0.5469\n",
      "Epoch 2/10\n",
      "3157/3157 [==============================] - 1070s 339ms/step - loss: 1.8468 - accuracy: 0.5239 - val_loss: 1.6410 - val_accuracy: 0.5676\n",
      "Epoch 3/10\n",
      "3157/3157 [==============================] - 1092s 346ms/step - loss: 1.7293 - accuracy: 0.5522 - val_loss: 1.5114 - val_accuracy: 0.5966\n",
      "Epoch 4/10\n",
      "3157/3157 [==============================] - 1059s 335ms/step - loss: 1.6492 - accuracy: 0.5689 - val_loss: 1.4236 - val_accuracy: 0.6184\n",
      "Epoch 5/10\n",
      "3157/3157 [==============================] - 1055s 334ms/step - loss: 1.5876 - accuracy: 0.5810 - val_loss: 1.4074 - val_accuracy: 0.6203\n",
      "Epoch 6/10\n",
      "3157/3157 [==============================] - 1088s 345ms/step - loss: 1.5309 - accuracy: 0.5947 - val_loss: 1.3236 - val_accuracy: 0.6397\n",
      "Epoch 7/10\n",
      "3157/3157 [==============================] - 1107s 351ms/step - loss: 1.4832 - accuracy: 0.6053 - val_loss: 1.3408 - val_accuracy: 0.6344\n",
      "Epoch 8/10\n",
      "3157/3157 [==============================] - 1060s 336ms/step - loss: 1.4391 - accuracy: 0.6149 - val_loss: 1.2732 - val_accuracy: 0.6503\n",
      "Epoch 9/10\n",
      "3157/3157 [==============================] - 1057s 335ms/step - loss: 1.4015 - accuracy: 0.6214 - val_loss: 1.2514 - val_accuracy: 0.6569\n",
      "Epoch 10/10\n",
      "3157/3157 [==============================] - 1059s 335ms/step - loss: 1.3760 - accuracy: 0.6265 - val_loss: 1.2187 - val_accuracy: 0.6639\n"
     ]
    },
    {
     "data": {
      "text/plain": [
       "<keras.callbacks.History at 0x24cc77f85e0>"
      ]
     },
     "execution_count": 9,
     "metadata": {},
     "output_type": "execute_result"
    }
   ],
   "source": [
    "model.fit(train_data, validation_data=test_data, epochs=10)"
   ]
  },
  {
   "cell_type": "markdown",
   "id": "39f898a2",
   "metadata": {},
   "source": [
    "# After training, map class index to calorie content in a dictionary"
   ]
  },
  {
   "cell_type": "code",
   "execution_count": null,
   "id": "22342019",
   "metadata": {},
   "outputs": [],
   "source": [
    "calorie_dict = {\n",
    "    \"pizza\": 285,\n",
    "    \"sushi\": 200,\n",
    "    \"lasagna\": 350,\n",
    "    \"tacos\": 250,\n",
    "    \"hamburger\": 354,\n",
    "    \"spaghetti\": 220,\n",
    "    \"salad\": 150,\n",
    "    \"steak\": 700,\n",
    "    \"soup\": 150,\n",
    "    \"sandwich\": 300,\n",
    "    \"ice_cream\": 207,\n",
    "    \"cake\": 350,\n",
    "    \"donut\": 195,\n",
    "    \"pancakes\": 350,\n",
    "    \"waffles\": 400,\n",
    "    \"fries\": 365,\n",
    "    \"chocolate\": 546,\n",
    "    \"cookies\": 200,\n",
    "    \"brownies\": 300,\n",
    "    \"cupcakes\": 300,\n",
    "    \"muffins\": 400,\n",
    "    \"bread\": 80,\n",
    "    \"bagel\": 250,\n",
    "    \"croissant\": 231,\n",
    "    \"burrito\": 400,\n",
    "    \"samosa\": 200,\n",
    "    \"spring rolls\": 150,\n",
    "    \"dumplings\": 300,\n",
    "    \"kebab\": 250,\n",
    "    \"chili\": 250,\n",
    "    \"curry\": 300,\n",
    "    \"stir fry\": 200,\n",
    "    \"grilled cheese\": 300,\n",
    "    \"quesadilla\": 350,\n",
    "    \"pasta\": 200,\n",
    "    \"noodles\": 200,\n",
    "    \"rice\": 206,\n",
    "    \"cereal\": 150,\n",
    "    \"oatmeal\": 150,\n",
    "    \"yogurt\": 150,\n",
    "    \"smoothie\": 200,\n",
    "    \"juice\": 120,\n",
    "    \"milkshake\": 350,\n",
    "    \"tea\": 0,\n",
    "    \"coffee\": 2,\n",
    "    \"soda\": 150,\n",
    "    \"water\": 0,\n",
    "    \"beer\": 150,\n",
    "    \"wine\": 125,\n",
    "    \"cocktail\": 200,\n",
    "    \"whiskey\": 100,\n",
    "    \"vodka\": 100,\n",
    "    \"rum\": 100,\n",
    "    \"gin\": 100,\n",
    "    \"brandy\": 100,\n",
    "    \"champagne\": 80,\n",
    "    \"whipped cream\": 51,\n",
    "    \"syrup\": 200,\n",
    "    \"honey\": 64,\n",
    "    \"jam\": 56,\n",
    "    \"peanut butter\": 588,\n",
    "    \"cream cheese\": 342,\n",
    "    \"cheese\": 402,\n",
    "    \"butter\": 717,\n",
    "    \"mayo\": 680,\n",
    "    \"mustard\": 66,\n",
    "    \"ketchup\": 20,\n",
    "    \"hot sauce\": 0,\n",
    "    \"soy sauce\": 10,\n",
    "    \"vinegar\": 3,\n",
    "    \"olive oil\": 119,\n",
    "    \"vegetable oil\": 120,\n",
    "    \"coconut oil\": 117,\n",
    "    \"sesame oil\": 120,\n",
    "    \"peanut oil\": 120,\n",
    "    \"canola oil\": 120,\n",
    "    \"sunflower oil\": 120,\n",
    "    \"corn oil\": 120,\n",
    "    \"grapeseed oil\": 120,\n",
    "    \"avocado oil\": 120,\n",
    "    \"truffle oil\": 120,\n",
    "    \"balsamic vinegar\": 14,\n",
    "    \"apple cider vinegar\": 3,\n",
    "    \"rice vinegar\": 0,\n",
    "    \"white vinegar\": 0,\n",
    "    \"red wine vinegar\": 0,\n",
    "    \"cider vinegar\": 0,\n",
    "    \"malt vinegar\": 0,\n",
    "    \"champagne vinegar\": 0,\n",
    "    \"sherry vinegar\": 0,\n",
    "    \"coconut vinegar\": 0,\n",
    "    \"fig vinegar\": 0,\n",
    "    \"raspberry vinegar\": 0,\n",
    "    \"blueberry vinegar\": 0,\n",
    "    \"strawberry vinegar\": 0,\n",
    "    \"mango vinegar\": 0,\n",
    "    \"peach vinegar\": 0,\n",
    "    \"plum vinegar\": 0,\n",
    "    \"pomegranate vinegar\": 0,\n",
    "    \"grapefruit vinegar\": 0,\n",
    "    \"lemon vinegar\": 0,\n",
    "    \"lime vinegar\": 0,\n",
    "    \"orange vinegar\": 0,\n",
    "    \"tangerine vinegar\": 0,\n",
    "    \"clementine vinegar\": 0,\n",
    "    \"blood orange vinegar\": 0,\n",
    "    \"kiwi vinegar\": 0,\n",
    "    \"banana vinegar\": 0,\n",
    "    \"papaya vinegar\": 0,\n",
    "    \"pineapple vinegar\": 0,\n",
    "    \"coconut cream\": 330,\n",
    "    \"almond milk\": 30,\n",
    "    \"soy milk\": 33,\n",
    "    \"oat milk\": 40,\n",
    "    \"rice milk\": 50,\n",
    "    \"cashew milk\": 25,\n",
    "    \"hemp milk\": 60,\n",
    "    \"coconut milk\": 50,\n",
    "    \"flax milk\": 25,\n",
    "    \"macadamia milk\": 50,\n",
    "    \"walnut milk\": 50,\n",
    "    \"pistachio milk\": 50,\n",
    "    \"hazelnut milk\": 50,\n",
    "    \"peanut milk\": 50,\n",
    "    \"chocolate milk\": 190,\n",
    "    \"strawberry milk\": 150,\n",
    "    \"vanilla milk\": 150,\n",
    "    \"coffee milk\": 150,\n",
    "    \"banana milk\": 150,\n",
    "    \"caramel milk\": 150,\n",
    "    \"coconut water\": 46,\n",
    "    \"almond butter\": 614,\n",
    "    \"cashew butter\": 588,\n",
    "    \"sunflower seed butter\": 588,\n",
    "    \"pumpkin seed butter\": 588,\n",
    "    \"tahini\": 595,\n",
    "    \"nutella\": 539,\n",
    "    \"chocolate spread\": 540,\n",
    "    \"peanut butter spread\": 588,\n",
    "    \"fruit spread\": 200,\n",
    "    \"jelly\": 150,\n",
    "    \"fruit preserves\": 150,\n",
    "    \"fruit compote\": 150,\n",
    "    \"fruit curd\": 150,\n",
    "    \"fruit butter\": 150,\n",
    "    \"fruit leather\": 150,\n",
    "    \"fruit roll-up\": 150,\n",
    "    \"fruit snacks\": 150,\n",
    "    \"fruit chews\": 150,\n",
    "    \"fruit gummies\": 150,\n",
    "    \"fruit strips\": 150,\n",
    "    \"fruit bars\": 150,\n",
    "    \"fruit crisps\": 150,\n",
    "    \"fruit chips\": 150,\n",
    "    \"fruit puffs\": 150,\n",
    "    \"fruit bites\": 150,\n",
    "    \"fruit drops\": 150,\n",
    "    \"fruit chews\": 150,\n",
    "    \"fruit nuggets\": 150,\n",
    "    \"fruit clusters\": 150,\n",
    "    \"fruit bites\": 150,\n",
    "    \"fruit nuggets\": 150,\n",
    "    \"fruit clusters\": 150,\n",
    "    \"fruit crisps\": 150,\n",
    "    \"fruit chips\": 150,\n",
    "    \"fruit puffs\": 150,\n",
    "}"
   ]
  },
  {
   "cell_type": "markdown",
   "id": "4de27715",
   "metadata": {},
   "source": [
    "# # Predict function example"
   ]
  },
  {
   "cell_type": "code",
   "execution_count": 39,
   "id": "967eebd6",
   "metadata": {},
   "outputs": [],
   "source": [
    "def predict_and_estimate_calories(image_path):\n",
    "    img = tf.keras.preprocessing.image.load_img(image_path, target_size=(224,224))\n",
    "    x = tf.keras.preprocessing.image.img_to_array(img) / 255.0\n",
    "    x = x.reshape((1, 224, 224, 3))\n",
    "    preds = model.predict(x)\n",
    "    class_idx = preds.argmax()\n",
    "    class_label = list(train_data.class_indices.keys())[class_idx]\n",
    "    calories = calorie_dict.get(class_label, \"Unknown\")\n",
    "    return class_label, calories"
   ]
  },
  {
   "cell_type": "markdown",
   "id": "543c7708",
   "metadata": {},
   "source": [
    "# load_and_preprocess_image()"
   ]
  },
  {
   "cell_type": "code",
   "execution_count": null,
   "id": "86e5b23e",
   "metadata": {},
   "outputs": [],
   "source": [
    "from tensorflow.keras.preprocessing import image\n",
    "from tensorflow.keras.applications.mobilenet_v2 import preprocess_input\n",
    "import numpy as np\n",
    "\n",
    "def load_and_preprocess_image(img_path):\n",
    "    img = image.load_img(img_path, target_size=(224, 224))  \n",
    "    img_array = image.img_to_array(img)\n",
    "    img_array = np.expand_dims(img_array, axis=0)  \n",
    "    img_array = preprocess_input(img_array) \n",
    "    return img_array"
   ]
  },
  {
   "cell_type": "markdown",
   "id": "6841c960",
   "metadata": {},
   "source": [
    "#  Updated Inference Code Example:"
   ]
  },
  {
   "cell_type": "code",
   "execution_count": null,
   "id": "6afc23d1",
   "metadata": {},
   "outputs": [
    {
     "name": "stdout",
     "output_type": "stream",
     "text": [
      "Found 80800 images belonging to 101 classes.\n",
      "Found 20200 images belonging to 101 classes.\n"
     ]
    }
   ],
   "source": [
    "from tensorflow.keras.preprocessing.image import ImageDataGenerator\n",
    "train_datagen = ImageDataGenerator(rescale=1./255, validation_split=0.2)  \n",
    "train_dir = 'D:/Prodigy_InfoTech/Prodigy_InfoTech_Assessment_05/archive/food-101/food-101/images'\n",
    "train_generator = train_datagen.flow_from_directory(\n",
    "    train_dir,\n",
    "    target_size=(224, 224),\n",
    "    batch_size=32,\n",
    "    class_mode='categorical',\n",
    "    subset='training'\n",
    ")\n",
    "val_generator = train_datagen.flow_from_directory(\n",
    "    train_dir,\n",
    "    target_size=(224, 224),\n",
    "    batch_size=32,\n",
    "    class_mode='categorical',\n",
    "    subset='validation'\n",
    ")\n",
    "class_names = list(train_generator.class_indices.keys())"
   ]
  },
  {
   "cell_type": "markdown",
   "id": "92b8e69d",
   "metadata": {},
   "source": [
    "# loaded data like this"
   ]
  },
  {
   "cell_type": "code",
   "execution_count": 42,
   "id": "e471e237",
   "metadata": {},
   "outputs": [
    {
     "name": "stdout",
     "output_type": "stream",
     "text": [
      "Found 101000 images belonging to 101 classes.\n"
     ]
    }
   ],
   "source": [
    "train_generator = train_datagen.flow_from_directory(\n",
    "    train_dir,\n",
    "    target_size=(224, 224),\n",
    "    batch_size=32,\n",
    "    class_mode='categorical'\n",
    ")\n"
   ]
  },
  {
   "cell_type": "markdown",
   "id": "09674e76",
   "metadata": {},
   "source": [
    "# Now prediction block will work"
   ]
  },
  {
   "cell_type": "code",
   "execution_count": 43,
   "id": "514248a0",
   "metadata": {},
   "outputs": [
    {
     "name": "stdout",
     "output_type": "stream",
     "text": [
      "1/1 [==============================] - 0s 52ms/step\n",
      "Predicted Class: ice_cream\n",
      "Estimated Calories: 207 kcal\n"
     ]
    }
   ],
   "source": [
    "img_path = \"D:/Prodigy_InfoTech/Prodigy_InfoTech_Assessment_05/archive/food-101/food-101/images/ice_cream/1164.jpg\"\n",
    "img = load_and_preprocess_image(img_path)\n",
    "prediction = model.predict(img)\n",
    "predicted_index = np.argmax(prediction)\n",
    "predicted_class = class_names[predicted_index]\n",
    "estimated_calories = calorie_dict.get(predicted_class, \"Unknown\")\n",
    "\n",
    "print(f\"Predicted Class: {predicted_class}\")\n",
    "print(f\"Estimated Calories: {estimated_calories} kcal\")\n",
    "\n"
   ]
  }
 ],
 "metadata": {
  "kernelspec": {
   "display_name": "env3",
   "language": "python",
   "name": "python3"
  },
  "language_info": {
   "codemirror_mode": {
    "name": "ipython",
    "version": 3
   },
   "file_extension": ".py",
   "mimetype": "text/x-python",
   "name": "python",
   "nbconvert_exporter": "python",
   "pygments_lexer": "ipython3",
   "version": "3.10.9"
  }
 },
 "nbformat": 4,
 "nbformat_minor": 5
}
